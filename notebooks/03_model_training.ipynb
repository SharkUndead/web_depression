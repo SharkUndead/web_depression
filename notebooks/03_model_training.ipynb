{
 "cells": [
  {
   "cell_type": "markdown",
   "id": "d314b422",
   "metadata": {},
   "source": [
    "# 03 - Model Training 🤖\n",
    "\n",
    "> Huấn luyện 3 mô hình: Random Forest, LightGBM, Neural Network. Đánh giá sơ bộ và lưu model để sử dụng ở bước sau.\n"
   ]
  },
  {
   "cell_type": "markdown",
   "id": "18b5eb86",
   "metadata": {},
   "source": [
    "## Import thư viện"
   ]
  },
  {
   "cell_type": "code",
   "execution_count": 12,
   "id": "b1620a5f",
   "metadata": {},
   "outputs": [],
   "source": [
    "import pandas as pd\n",
    "import numpy as np\n",
    "import os\n",
    "\n",
    "from sklearn.model_selection import GridSearchCV\n",
    "from sklearn.ensemble import RandomForestClassifier\n",
    "from lightgbm import LGBMClassifier\n",
    "from sklearn.neural_network import MLPClassifier\n",
    "from sklearn.metrics import classification_report, confusion_matrix\n",
    "from sklearn.model_selection import cross_val_score\n",
    "# Import các công cụ từ scikit-optimize và imblearn\n",
    "from skopt import BayesSearchCV\n",
    "from skopt.space import Real, Categorical, Integer\n",
    "from imblearn.over_sampling import SMOTE\n",
    "from imblearn.pipeline import Pipeline as ImbPipeline # Đổi tên để tránh trùng lặp\n",
    "from sklearn.model_selection import StratifiedKFold\n",
    "from sklearn.preprocessing import StandardScaler\n",
    "\n",
    "import joblib\n",
    "import lightgbm as lgb\n",
    "import seaborn as sns\n",
    "import matplotlib.pyplot as plt"
   ]
  },
  {
   "cell_type": "markdown",
   "id": "f79442a4",
   "metadata": {},
   "source": [
    "## Tải dữ liệu đã tách"
   ]
  },
  {
   "cell_type": "code",
   "execution_count": 13,
   "id": "0accef4c",
   "metadata": {},
   "outputs": [],
   "source": [
    "X_train = pd.read_csv(\"../data/processed/X_train.csv\")\n",
    "X_test = pd.read_csv(\"../data/processed/X_test.csv\")\n",
    "y_train = pd.read_csv(\"../data/processed/y_train.csv\").squeeze()\n",
    "y_test = pd.read_csv(\"../data/processed/y_test.csv\").squeeze()\n",
    "# Định nghĩa chiến lược kiểm định chéo để tái sử dụng\n",
    "# StratifiedKFold là lựa chọn tốt nhất cho dữ liệu mất cân bằng\n",
    "cv_strategy = StratifiedKFold(n_splits=5, shuffle=True, random_state=42)"
   ]
  },
  {
   "cell_type": "code",
   "execution_count": 14,
   "id": "85bad7b1",
   "metadata": {},
   "outputs": [
    {
     "name": "stdout",
     "output_type": "stream",
     "text": [
      "✅ Dữ liệu huấn luyện: (9712, 18)\n",
      "✅ Dữ liệu kiểm tra: (2428, 18)\n"
     ]
    }
   ],
   "source": [
    "\n",
    "print(\"✅ Dữ liệu huấn luyện:\", X_train.shape)\n",
    "print(\"✅ Dữ liệu kiểm tra:\", X_test.shape)"
   ]
  },
  {
   "cell_type": "code",
   "execution_count": 15,
   "id": "68edf271",
   "metadata": {},
   "outputs": [],
   "source": [
    "models_dir = '../models'\n",
    "os.makedirs(models_dir, exist_ok=True)"
   ]
  },
  {
   "cell_type": "markdown",
   "id": "5133c475",
   "metadata": {},
   "source": [
    "## 1: Train mô hình Random Forest"
   ]
  },
  {
   "cell_type": "code",
   "execution_count": null,
   "id": "db9cce5b",
   "metadata": {},
   "outputs": [
    {
     "name": "stdout",
     "output_type": "stream",
     "text": [
      "Bắt đầu tinh chỉnh cho Random Forest...\n",
      "Fitting 5 folds for each of 1 candidates, totalling 5 fits\n",
      "Fitting 5 folds for each of 1 candidates, totalling 5 fits\n",
      "Fitting 5 folds for each of 1 candidates, totalling 5 fits\n",
      "Fitting 5 folds for each of 1 candidates, totalling 5 fits\n",
      "Fitting 5 folds for each of 1 candidates, totalling 5 fits\n",
      "Fitting 5 folds for each of 1 candidates, totalling 5 fits\n",
      "Fitting 5 folds for each of 1 candidates, totalling 5 fits\n",
      "Fitting 5 folds for each of 1 candidates, totalling 5 fits\n",
      "Fitting 5 folds for each of 1 candidates, totalling 5 fits\n",
      "Fitting 5 folds for each of 1 candidates, totalling 5 fits\n",
      "Fitting 5 folds for each of 1 candidates, totalling 5 fits\n",
      "Fitting 5 folds for each of 1 candidates, totalling 5 fits\n",
      "Fitting 5 folds for each of 1 candidates, totalling 5 fits\n",
      "Fitting 5 folds for each of 1 candidates, totalling 5 fits\n",
      "Fitting 5 folds for each of 1 candidates, totalling 5 fits\n",
      "Fitting 5 folds for each of 1 candidates, totalling 5 fits\n",
      "Fitting 5 folds for each of 1 candidates, totalling 5 fits\n",
      "Fitting 5 folds for each of 1 candidates, totalling 5 fits\n",
      "Fitting 5 folds for each of 1 candidates, totalling 5 fits\n",
      "Fitting 5 folds for each of 1 candidates, totalling 5 fits\n",
      "Fitting 5 folds for each of 1 candidates, totalling 5 fits\n",
      "Fitting 5 folds for each of 1 candidates, totalling 5 fits\n",
      "Fitting 5 folds for each of 1 candidates, totalling 5 fits\n",
      "Fitting 5 folds for each of 1 candidates, totalling 5 fits\n",
      "Fitting 5 folds for each of 1 candidates, totalling 5 fits\n",
      "Fitting 5 folds for each of 1 candidates, totalling 5 fits\n",
      "Fitting 5 folds for each of 1 candidates, totalling 5 fits\n",
      "Fitting 5 folds for each of 1 candidates, totalling 5 fits\n",
      "Fitting 5 folds for each of 1 candidates, totalling 5 fits\n",
      "Fitting 5 folds for each of 1 candidates, totalling 5 fits\n",
      "Fitting 5 folds for each of 1 candidates, totalling 5 fits\n",
      "Fitting 5 folds for each of 1 candidates, totalling 5 fits\n",
      "\n",
      "Các tham số tốt nhất cho Random Forest:\n",
      "OrderedDict([('classifier__class_weight', 'balanced'), ('classifier__max_depth', 47), ('classifier__max_features', 'log2'), ('classifier__min_samples_leaf', 4), ('classifier__min_samples_split', 5), ('classifier__n_estimators', 231)])\n",
      "Điểm F1 tốt nhất: 0.8909463626325287\n",
      "Đã lưu mô hình Random Forest tốt nhất tại: ../models\\best_rf_model.pkl\n"
     ]
    }
   ],
   "source": [
    "# 1. Tạo một pipeline bao gồm SMOTE và mô hình\n",
    "pipeline_rf = ImbPipeline([\n",
    "    ('smote', SMOTE(random_state=42)),\n",
    "    ('classifier', RandomForestClassifier(random_state=42))\n",
    "])\n",
    "search_space_rf = {\n",
    "    'classifier__n_estimators': Integer(200, 800),\n",
    "    'classifier__max_depth': Integer(10, 50),\n",
    "    'classifier__min_samples_split': Integer(2, 10),\n",
    "    'classifier__min_samples_leaf': Integer(1, 5),\n",
    "    'classifier__max_features': Categorical(['sqrt', 'log2', 0.6, 0.8]),\n",
    "    'classifier__class_weight': Categorical([None, 'balanced', 'balanced_subsample'])\n",
    "}\n",
    "bayes_search_rf = BayesSearchCV(\n",
    "    estimator=pipeline_rf,\n",
    "    search_spaces=search_space_rf,\n",
    "    n_iter=32, \n",
    "    cv=cv_strategy,\n",
    "    n_jobs=-1,\n",
    "    verbose=2,\n",
    "    scoring='f1',\n",
    "    random_state=42\n",
    ")\n",
    "print(\"Bắt đầu tinh chỉnh cho Random Forest...\")\n",
    "bayes_search_rf.fit(X_train, y_train)\n",
    "best_rf_model = bayes_search_rf.best_estimator_\n",
    "print(\"\\nCác tham số tốt nhất cho Random Forest:\")\n",
    "print(bayes_search_rf.best_params_)\n",
    "print(f\"Điểm F1 tốt nhất: {bayes_search_rf.best_score_}\")\n",
    "joblib.dump(best_rf_model, os.path.join(models_dir, 'best_rf_model.pkl')) \n",
    "print(f\"Đã lưu mô hình Random Forest tốt nhất tại: {os.path.join(models_dir, 'best_rf_model.pkl')}\")"
   ]
  },
  {
   "cell_type": "code",
   "execution_count": 17,
   "id": "24c5f267",
   "metadata": {},
   "outputs": [
    {
     "name": "stdout",
     "output_type": "stream",
     "text": [
      "Đã lưu mô hình Random Forest tốt nhất tại: ../models\\best_rf_model.pkl\n"
     ]
    }
   ],
   "source": [
    "joblib.dump(best_rf_model, os.path.join(models_dir, 'best_rf_model.pkl')) \n",
    "print(f\"Đã lưu mô hình Random Forest tốt nhất tại: {os.path.join(models_dir, 'best_rf_model.pkl')}\")"
   ]
  },
  {
   "cell_type": "code",
   "execution_count": 18,
   "id": "a5370f50",
   "metadata": {},
   "outputs": [
    {
     "data": {
      "text/plain": [
       "['../models/feature_order.pkl']"
      ]
     },
     "execution_count": 18,
     "metadata": {},
     "output_type": "execute_result"
    }
   ],
   "source": [
    "# Lưu danh sách tên cột để dùng khi predict\n",
    "feature_order = X_train.columns.tolist()\n",
    "joblib.dump(feature_order, '../models/feature_order.pkl')"
   ]
  },
  {
   "cell_type": "markdown",
   "id": "08ea2436",
   "metadata": {},
   "source": [
    "## 2: Huấn luyện LightGBM"
   ]
  },
  {
   "cell_type": "code",
   "execution_count": null,
   "id": "f0afe5bd",
   "metadata": {},
   "outputs": [
    {
     "name": "stdout",
     "output_type": "stream",
     "text": [
      "\n",
      "Bắt đầu tinh chỉnh cho LightGBM...\n",
      "Fitting 5 folds for each of 1 candidates, totalling 5 fits\n",
      "Fitting 5 folds for each of 1 candidates, totalling 5 fits\n",
      "Fitting 5 folds for each of 1 candidates, totalling 5 fits\n",
      "Fitting 5 folds for each of 1 candidates, totalling 5 fits\n",
      "Fitting 5 folds for each of 1 candidates, totalling 5 fits\n",
      "Fitting 5 folds for each of 1 candidates, totalling 5 fits\n",
      "Fitting 5 folds for each of 1 candidates, totalling 5 fits\n",
      "Fitting 5 folds for each of 1 candidates, totalling 5 fits\n",
      "Fitting 5 folds for each of 1 candidates, totalling 5 fits\n",
      "Fitting 5 folds for each of 1 candidates, totalling 5 fits\n",
      "Fitting 5 folds for each of 1 candidates, totalling 5 fits\n",
      "Fitting 5 folds for each of 1 candidates, totalling 5 fits\n",
      "Fitting 5 folds for each of 1 candidates, totalling 5 fits\n",
      "Fitting 5 folds for each of 1 candidates, totalling 5 fits\n",
      "Fitting 5 folds for each of 1 candidates, totalling 5 fits\n",
      "Fitting 5 folds for each of 1 candidates, totalling 5 fits\n",
      "Fitting 5 folds for each of 1 candidates, totalling 5 fits\n",
      "Fitting 5 folds for each of 1 candidates, totalling 5 fits\n",
      "Fitting 5 folds for each of 1 candidates, totalling 5 fits\n",
      "Fitting 5 folds for each of 1 candidates, totalling 5 fits\n",
      "Fitting 5 folds for each of 1 candidates, totalling 5 fits\n",
      "Fitting 5 folds for each of 1 candidates, totalling 5 fits\n",
      "Fitting 5 folds for each of 1 candidates, totalling 5 fits\n",
      "Fitting 5 folds for each of 1 candidates, totalling 5 fits\n",
      "Fitting 5 folds for each of 1 candidates, totalling 5 fits\n",
      "Fitting 5 folds for each of 1 candidates, totalling 5 fits\n",
      "Fitting 5 folds for each of 1 candidates, totalling 5 fits\n",
      "Fitting 5 folds for each of 1 candidates, totalling 5 fits\n",
      "Fitting 5 folds for each of 1 candidates, totalling 5 fits\n",
      "Fitting 5 folds for each of 1 candidates, totalling 5 fits\n",
      "Fitting 5 folds for each of 1 candidates, totalling 5 fits\n",
      "Fitting 5 folds for each of 1 candidates, totalling 5 fits\n",
      "Fitting 5 folds for each of 1 candidates, totalling 5 fits\n",
      "Fitting 5 folds for each of 1 candidates, totalling 5 fits\n",
      "Fitting 5 folds for each of 1 candidates, totalling 5 fits\n",
      "Fitting 5 folds for each of 1 candidates, totalling 5 fits\n",
      "Fitting 5 folds for each of 1 candidates, totalling 5 fits\n",
      "Fitting 5 folds for each of 1 candidates, totalling 5 fits\n",
      "Fitting 5 folds for each of 1 candidates, totalling 5 fits\n",
      "Fitting 5 folds for each of 1 candidates, totalling 5 fits\n",
      "Fitting 5 folds for each of 1 candidates, totalling 5 fits\n",
      "Fitting 5 folds for each of 1 candidates, totalling 5 fits\n",
      "Fitting 5 folds for each of 1 candidates, totalling 5 fits\n",
      "Fitting 5 folds for each of 1 candidates, totalling 5 fits\n",
      "Fitting 5 folds for each of 1 candidates, totalling 5 fits\n",
      "Fitting 5 folds for each of 1 candidates, totalling 5 fits\n",
      "Fitting 5 folds for each of 1 candidates, totalling 5 fits\n",
      "Fitting 5 folds for each of 1 candidates, totalling 5 fits\n",
      "Fitting 5 folds for each of 1 candidates, totalling 5 fits\n",
      "Fitting 5 folds for each of 1 candidates, totalling 5 fits\n",
      "[LightGBM] [Info] Number of positive: 6643, number of negative: 6643\n",
      "[LightGBM] [Info] Auto-choosing col-wise multi-threading, the overhead of testing was 0.001032 seconds.\n",
      "You can set `force_col_wise=true` to remove the overhead.\n",
      "[LightGBM] [Info] Total Bins 2648\n",
      "[LightGBM] [Info] Number of data points in the train set: 13286, number of used features: 18\n",
      "[LightGBM] [Info] [binary:BoostFromScore]: pavg=0.500000 -> initscore=0.000000\n",
      "\n",
      "Các tham số tốt nhất cho LightGBM:\n",
      "OrderedDict([('classifier__colsample_bytree', 0.6), ('classifier__learning_rate', 0.01), ('classifier__n_estimators', 933), ('classifier__num_leaves', 20), ('classifier__reg_alpha', 0.7609327658086278), ('classifier__reg_lambda', 0.82660479552532), ('classifier__subsample', 0.8894329571395134)])\n",
      "Điểm F1 tốt nhất: 0.8974285381589736\n",
      "Đã lưu mô hình LightGBM tốt nhất tại: ../models\\best_lgbm_model.pkl\n"
     ]
    }
   ],
   "source": [
    "# 1. Tạo pipeline\n",
    "pipeline_lgbm = ImbPipeline([\n",
    "    ('smote', SMOTE(random_state=42)),\n",
    "    ('classifier', LGBMClassifier(random_state=42))\n",
    "])\n",
    "\n",
    "search_space_lgbm = {\n",
    "    'classifier__n_estimators': Integer(200, 1500),\n",
    "    'classifier__learning_rate': Real(0.01, 0.1, 'log-uniform'),\n",
    "    'classifier__num_leaves': Integer(20, 60),\n",
    "    'classifier__reg_alpha': Real(0.0, 1.0, 'uniform'), \n",
    "    'classifier__reg_lambda': Real(0.0, 1.0, 'uniform'), \n",
    "    'classifier__colsample_bytree': Real(0.6, 1.0, 'uniform'),\n",
    "    'classifier__subsample': Real(0.6, 1.0, 'uniform')\n",
    "}\n",
    "bayes_search_lgbm = BayesSearchCV(\n",
    "    estimator=pipeline_lgbm,\n",
    "    search_spaces=search_space_lgbm,\n",
    "    n_iter=50,\n",
    "    cv=cv_strategy,\n",
    "    n_jobs=-1,\n",
    "    verbose=2,\n",
    "    scoring='f1',\n",
    "    random_state=42\n",
    ")\n",
    "print(\"\\nBắt đầu tinh chỉnh cho LightGBM...\")\n",
    "bayes_search_lgbm.fit(X_train, y_train)\n",
    "best_lgbm_model = bayes_search_lgbm.best_estimator_\n",
    "print(\"\\nCác tham số tốt nhất cho LightGBM:\")\n",
    "print(bayes_search_lgbm.best_params_)\n",
    "print(f\"Điểm F1 tốt nhất: {bayes_search_lgbm.best_score_}\")\n",
    "joblib.dump(best_lgbm_model, os.path.join(models_dir, 'best_lgbm_model.pkl'))\n",
    "print(f\"Đã lưu mô hình LightGBM tốt nhất tại: {os.path.join(models_dir, 'best_lgbm_model.pkl')}\")"
   ]
  },
  {
   "cell_type": "code",
   "execution_count": 20,
   "id": "a3b39b5e",
   "metadata": {},
   "outputs": [
    {
     "data": {
      "text/plain": [
       "['../models/feature_order_lightgbm.pkl']"
      ]
     },
     "execution_count": 20,
     "metadata": {},
     "output_type": "execute_result"
    }
   ],
   "source": [
    "\n",
    "feature_order = X_train.columns.tolist()\n",
    "joblib.dump(feature_order, '../models/feature_order_lightgbm.pkl')"
   ]
  },
  {
   "cell_type": "markdown",
   "id": "6fadc98d",
   "metadata": {},
   "source": [
    "## 3: Huấn luyện Neural Network (MLPClassifier)"
   ]
  },
  {
   "cell_type": "code",
   "execution_count": null,
   "id": "e58cb4f3",
   "metadata": {},
   "outputs": [
    {
     "name": "stdout",
     "output_type": "stream",
     "text": [
      "\n",
      "Bắt đầu tinh chỉnh cho MLP...\n",
      "Fitting 5 folds for each of 1 candidates, totalling 5 fits\n",
      "Fitting 5 folds for each of 1 candidates, totalling 5 fits\n",
      "Fitting 5 folds for each of 1 candidates, totalling 5 fits\n",
      "Fitting 5 folds for each of 1 candidates, totalling 5 fits\n",
      "Fitting 5 folds for each of 1 candidates, totalling 5 fits\n",
      "Fitting 5 folds for each of 1 candidates, totalling 5 fits\n",
      "Fitting 5 folds for each of 1 candidates, totalling 5 fits\n",
      "Fitting 5 folds for each of 1 candidates, totalling 5 fits\n",
      "Fitting 5 folds for each of 1 candidates, totalling 5 fits\n",
      "Fitting 5 folds for each of 1 candidates, totalling 5 fits\n",
      "Fitting 5 folds for each of 1 candidates, totalling 5 fits\n",
      "Fitting 5 folds for each of 1 candidates, totalling 5 fits\n",
      "Fitting 5 folds for each of 1 candidates, totalling 5 fits\n",
      "Fitting 5 folds for each of 1 candidates, totalling 5 fits\n",
      "Fitting 5 folds for each of 1 candidates, totalling 5 fits\n",
      "Fitting 5 folds for each of 1 candidates, totalling 5 fits\n",
      "Fitting 5 folds for each of 1 candidates, totalling 5 fits\n",
      "Fitting 5 folds for each of 1 candidates, totalling 5 fits\n",
      "Fitting 5 folds for each of 1 candidates, totalling 5 fits\n",
      "Fitting 5 folds for each of 1 candidates, totalling 5 fits\n",
      "Fitting 5 folds for each of 1 candidates, totalling 5 fits\n",
      "Fitting 5 folds for each of 1 candidates, totalling 5 fits\n",
      "Fitting 5 folds for each of 1 candidates, totalling 5 fits\n",
      "Fitting 5 folds for each of 1 candidates, totalling 5 fits\n",
      "Fitting 5 folds for each of 1 candidates, totalling 5 fits\n",
      "Fitting 5 folds for each of 1 candidates, totalling 5 fits\n",
      "Fitting 5 folds for each of 1 candidates, totalling 5 fits\n",
      "Fitting 5 folds for each of 1 candidates, totalling 5 fits\n",
      "Fitting 5 folds for each of 1 candidates, totalling 5 fits\n",
      "Fitting 5 folds for each of 1 candidates, totalling 5 fits\n",
      "Fitting 5 folds for each of 1 candidates, totalling 5 fits\n",
      "Fitting 5 folds for each of 1 candidates, totalling 5 fits\n",
      "\n",
      "Các tham số tốt nhất cho MLP:\n",
      "OrderedDict([('classifier__activation', 'relu'), ('classifier__alpha', 0.1), ('classifier__learning_rate_init', 0.1)])\n",
      "Điểm F1 tốt nhất trên tập CV: 0.8816\n",
      "Đã lưu mô hình MLP tốt nhất tại: ../models\\best_mlp_model.pkl\n"
     ]
    }
   ],
   "source": [
    "# 1. Tạo pipeline bao gồm cả co giãn dữ liệu (StandardScaler)\n",
    "#    CỐ ĐỊNH một kiến trúc mạng hợp lý: (128, 64, 32)\n",
    "pipeline_mlp = ImbPipeline([\n",
    "    ('scaler', StandardScaler()),\n",
    "    ('smote', SMOTE(random_state=42)),\n",
    "    ('classifier', MLPClassifier(hidden_layer_sizes=(128, 64, 32)\n",
    "    , max_iter=1000, early_stopping=True, random_state=42))\n",
    "])\n",
    "search_space_mlp = {\n",
    "    'classifier__activation': Categorical(['relu', 'tanh']),\n",
    "    'classifier__alpha': Real(1e-5, 1e-1, 'log-uniform'),\n",
    "    'classifier__learning_rate_init': Real(1e-4, 1e-1, 'log-uniform')\n",
    "}\n",
    "bayes_search_mlp = BayesSearchCV(\n",
    "    estimator=pipeline_mlp,\n",
    "    search_spaces=search_space_mlp,\n",
    "    n_iter=32,\n",
    "    cv=cv_strategy,\n",
    "    n_jobs=-1,\n",
    "    verbose=2,\n",
    "    scoring='f1',\n",
    "    random_state=42\n",
    ")\n",
    "\n",
    "print(\"\\nBắt đầu tinh chỉnh cho MLP...\")\n",
    "bayes_search_mlp.fit(X_train, y_train)\n",
    "best_mlp_model = bayes_search_mlp.best_estimator_\n",
    "print(\"\\nCác tham số tốt nhất cho MLP:\")\n",
    "print(bayes_search_mlp.best_params_)\n",
    "print(f\"Điểm F1 tốt nhất trên tập CV: {bayes_search_mlp.best_score_:.4f}\")\n",
    "joblib.dump(best_mlp_model, os.path.join(models_dir, 'best_mlp_model.pkl'))\n",
    "print(f\"Đã lưu mô hình MLP tốt nhất tại: {os.path.join(models_dir, 'best_mlp_model.pkl')}\")"
   ]
  },
  {
   "cell_type": "markdown",
   "id": "581ffea1",
   "metadata": {},
   "source": [
    "## 4: Stacking "
   ]
  },
  {
   "cell_type": "code",
   "execution_count": null,
   "id": "f28e3d00",
   "metadata": {},
   "outputs": [
    {
     "name": "stdout",
     "output_type": "stream",
     "text": [
      "\n",
      "Bắt đầu huấn luyện mô hình Stacking...\n",
      "[LightGBM] [Info] Number of positive: 6643, number of negative: 6643\n",
      "[LightGBM] [Info] Auto-choosing col-wise multi-threading, the overhead of testing was 0.000771 seconds.\n",
      "You can set `force_col_wise=true` to remove the overhead.\n",
      "[LightGBM] [Info] Total Bins 2648\n",
      "[LightGBM] [Info] Number of data points in the train set: 13286, number of used features: 18\n",
      "[LightGBM] [Info] [binary:BoostFromScore]: pavg=0.500000 -> initscore=0.000000\n",
      "[LightGBM] [Info] Number of positive: 5314, number of negative: 5314\n",
      "[LightGBM] [Info] Auto-choosing col-wise multi-threading, the overhead of testing was 0.000514 seconds.\n",
      "You can set `force_col_wise=true` to remove the overhead.\n",
      "[LightGBM] [Info] Total Bins 2649\n",
      "[LightGBM] [Info] Number of data points in the train set: 10628, number of used features: 18\n",
      "[LightGBM] [Info] [binary:BoostFromScore]: pavg=0.500000 -> initscore=0.000000\n",
      "[LightGBM] [Info] Number of positive: 5314, number of negative: 5314\n",
      "[LightGBM] [Info] Auto-choosing row-wise multi-threading, the overhead of testing was 0.000185 seconds.\n",
      "You can set `force_row_wise=true` to remove the overhead.\n",
      "And if memory is not enough, you can set `force_col_wise=true`.\n",
      "[LightGBM] [Info] Total Bins 2652\n",
      "[LightGBM] [Info] Number of data points in the train set: 10628, number of used features: 18\n",
      "[LightGBM] [Info] [binary:BoostFromScore]: pavg=0.500000 -> initscore=0.000000\n",
      "[LightGBM] [Info] Number of positive: 5314, number of negative: 5314\n",
      "[LightGBM] [Info] Auto-choosing col-wise multi-threading, the overhead of testing was 0.000524 seconds.\n",
      "You can set `force_col_wise=true` to remove the overhead.\n",
      "[LightGBM] [Info] Total Bins 2651\n",
      "[LightGBM] [Info] Number of data points in the train set: 10628, number of used features: 18\n",
      "[LightGBM] [Info] [binary:BoostFromScore]: pavg=0.500000 -> initscore=0.000000\n",
      "[LightGBM] [Info] Number of positive: 5315, number of negative: 5315\n",
      "[LightGBM] [Info] Auto-choosing col-wise multi-threading, the overhead of testing was 0.000521 seconds.\n",
      "You can set `force_col_wise=true` to remove the overhead.\n",
      "[LightGBM] [Info] Total Bins 2651\n",
      "[LightGBM] [Info] Number of data points in the train set: 10630, number of used features: 18\n",
      "[LightGBM] [Info] [binary:BoostFromScore]: pavg=0.500000 -> initscore=0.000000\n",
      "[LightGBM] [Info] Number of positive: 5315, number of negative: 5315\n",
      "[LightGBM] [Info] Auto-choosing col-wise multi-threading, the overhead of testing was 0.000464 seconds.\n",
      "You can set `force_col_wise=true` to remove the overhead.\n",
      "[LightGBM] [Info] Total Bins 2651\n",
      "[LightGBM] [Info] Number of data points in the train set: 10630, number of used features: 18\n",
      "[LightGBM] [Info] [binary:BoostFromScore]: pavg=0.500000 -> initscore=0.000000\n",
      "Hoàn thành!\n",
      "Đã lưu thành công mô hình Stacking cuối cùng tại: ../models\\stacking_model.pkl\n"
     ]
    },
    {
     "data": {
      "text/plain": [
       "['../models/feature_stacking.pkl']"
      ]
     },
     "execution_count": 22,
     "metadata": {},
     "output_type": "execute_result"
    }
   ],
   "source": [
    "from sklearn.ensemble import StackingClassifier\n",
    "from sklearn.linear_model import LogisticRegression\n",
    "estimators = [\n",
    "    ('rf', best_rf_model),\n",
    "    ('lgbm', best_lgbm_model),\n",
    "    ('mlp', best_mlp_model)\n",
    "]\n",
    "stacking_model = StackingClassifier(\n",
    "    estimators=estimators, \n",
    "    final_estimator=LogisticRegression(),\n",
    "    cv=cv_strategy\n",
    ")\n",
    "print(\"\\nBắt đầu huấn luyện mô hình Stacking...\")\n",
    "stacking_model.fit(X_train, y_train)\n",
    "print(\"Hoàn thành!\")\n",
    "joblib.dump(stacking_model, os.path.join(models_dir, 'stacking_model.pkl'))\n",
    "\n",
    "print(f\"Đã lưu thành công mô hình Stacking cuối cùng tại: {os.path.join(models_dir, 'stacking_model.pkl')}\")\n",
    "feature_order = X_train.columns.tolist()\n",
    "joblib.dump(feature_order, '../models/feature_stacking.pkl')"
   ]
  }
 ],
 "metadata": {
  "kernelspec": {
   "display_name": "Python 3",
   "language": "python",
   "name": "python3"
  },
  "language_info": {
   "codemirror_mode": {
    "name": "ipython",
    "version": 3
   },
   "file_extension": ".py",
   "mimetype": "text/x-python",
   "name": "python",
   "nbconvert_exporter": "python",
   "pygments_lexer": "ipython3",
   "version": "3.11.5"
  }
 },
 "nbformat": 4,
 "nbformat_minor": 5
}
